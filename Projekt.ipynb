{
 "cells": [
  {
   "cell_type": "markdown",
   "id": "10b127d2-309d-4214-85ff-226e9852b49a",
   "metadata": {
    "tags": []
   },
   "source": [
    "# BDINF project SS2024"
   ]
  },
  {
   "cell_type": "markdown",
   "id": "02a1226f-adc0-4053-ab0c-dda0adedbb8c",
   "metadata": {
    "tags": []
   },
   "source": [
    "## Topic\n",
    "\n",
    "The main goal is to check if there is a correlation between CO2 emissions and between new/used registered cars in AT (since 200). It would be also good to know how the CO2 emission did reduce over time for newly registered cars as a percentage."
   ]
  },
  {
   "cell_type": "markdown",
   "id": "4646f297-fd7e-4d35-ad05-7a25ee5a02de",
   "metadata": {
    "tags": []
   },
   "source": [
    "Members: Grégoire Bartek, Matthias Huber, David Berger"
   ]
  },
  {
   "cell_type": "markdown",
   "id": "0b1c1535-8d53-4d6d-b8f3-0e885b31e041",
   "metadata": {
    "tags": []
   },
   "source": [
    "## Data Sources: "
   ]
  },
  {
   "cell_type": "markdown",
   "id": "8149d648-e033-46fe-9d8b-264c1063f488",
   "metadata": {},
   "source": [
    "Planned Data Source: It is planned to store the data in a MYSQL database. The data from newly registered cars and used regeistered cars will be stored in a seperate tables and the emission data will be stored in a third table, we are currently in the process finding good APIs."
   ]
  },
  {
   "cell_type": "markdown",
   "id": "f4d26bc2-3665-4f75-a766-3f5c72eb1e9d",
   "metadata": {},
   "source": [
    "AT new registered cars: https://www.data.gv.at/katalog/de/dataset/stat_pkw-neuzulassungen-nach-marken-ab-janner-2000#resources"
   ]
  },
  {
   "cell_type": "markdown",
   "id": "94a9c5ad-e692-44a0-b62f-53a5469134a9",
   "metadata": {},
   "source": [
    "AT used registered cars: https://www.data.gv.at/katalog/dataset/6fc1c927-bf21-3d72-9333-a9055493ab3c#additional-info"
   ]
  },
  {
   "cell_type": "markdown",
   "id": "913bfd62-8e7e-454d-9aca-88e8fb8e5c96",
   "metadata": {
    "tags": []
   },
   "source": [
    "emission data: https://www.data.gv.at/katalog/dataset/bd462a04-2453-4c76-95bb-cfbd043540f5#resources (trendbericht nach sektoren)"
   ]
  },
  {
   "cell_type": "markdown",
   "id": "b5b367b8-eca6-4795-8eb6-58a672402b4c",
   "metadata": {
    "tags": []
   },
   "source": [
    "\n",
    "\n",
    "# Load the data from the CSV file\n"
   ]
  },
  {
   "cell_type": "markdown",
   "id": "00e186a0-3e20-434a-ab2e-a531b1ed626e",
   "metadata": {
    "tags": []
   },
   "source": [
    "## Planned procedure : "
   ]
  },
  {
   "cell_type": "markdown",
   "id": "a9060cf4-196c-4231-a4ec-53066cc67113",
   "metadata": {},
   "source": [
    "MYSQL DB is running in a docker container, which will be versioned in the following Github repository (This is accomplished because we want to save Azure credits):"
   ]
  },
  {
   "cell_type": "markdown",
   "id": "7cc50d78-968a-4733-9886-fe7661243e95",
   "metadata": {
    "tags": []
   },
   "source": [
    "https://github.com/huhubi/BDINF_project"
   ]
  },
  {
   "cell_type": "markdown",
   "id": "9fe337ca-42b1-4a25-85e1-26a0792ba12e",
   "metadata": {
    "tags": []
   },
   "source": [
    "The queries will be made from this notebook, so the outcome is reproducable"
   ]
  },
  {
   "cell_type": "markdown",
   "id": "8f380bb4-7e26-447d-a401-073750f71201",
   "metadata": {},
   "source": [
    "## Expected Output :"
   ]
  },
  {
   "cell_type": "markdown",
   "id": "b886311a-2207-42ea-b77b-cbcf5fb7b1fa",
   "metadata": {},
   "source": [
    "The data will be visualized and described in this notebook, it is expected to find a correlation between lower emissions and the production year of cars"
   ]
  },
  {
   "cell_type": "markdown",
   "id": "3ccee38f-fd02-45ad-807d-bb52befdb635",
   "metadata": {},
   "source": [
    "# Documentation of procedure"
   ]
  },
  {
   "cell_type": "markdown",
   "id": "2be4de2f-b530-4366-8ae6-40f904d29a12",
   "metadata": {},
   "source": [
    "First, we are downloading the csv data and doing explorative data analysis from AT emissions to check which categories are fitting for the car data. Since the data is from the years 1990-2022, and the car data is from 2000, just the emissions from 2000 are being considered. We also transformed the csv file to a xlsx file so we dont get any encoding issue"
   ]
  },
  {
   "cell_type": "markdown",
   "id": "b1c662a2-9800-4fd7-89e3-6d9b00169414",
   "metadata": {},
   "source": [
    "First, we get the CO2 data from the emissions csv. Here we are looking at the line 33, which has the yearly CO2 data from transport. Now we write us a script which gets just the line we want (in our case line 33, for transport)"
   ]
  },
  {
   "cell_type": "code",
   "execution_count": 33,
   "id": "8aaff4ee-9233-424f-981a-bba3110b9b1c",
   "metadata": {},
   "outputs": [],
   "source": [
    "import pandas as pd\n",
    "\n",
    "# TODO: 2 Eintrag entfernen\n",
    "\n",
    "# Load the Excel file\n",
    "file_path = 'emissions/schadstoffemissionen_1990-2022_nach_trendbericht-sektoren_wide.xlsx'  # Update this to your actual file path\n",
    "data = pd.read_excel(file_path)\n",
    "\n",
    "# Select only the specified lines (Python uses 0-based indexing)\n",
    "filtered_data = data.iloc[[0, 32]]  # Adjusted for 0-based index: 1-1=0 and 33-1=32\n",
    "\n",
    "# Save the filtered data to a new Excel file with the correct extension\n",
    "filtered_data.to_excel('emissions/emissions_result.xlsx', index=False)"
   ]
  },
  {
   "cell_type": "markdown",
   "id": "24e591b8-f691-4bc5-8ec1-35f1a5c0cf01",
   "metadata": {},
   "source": [
    "we need a little bit more cleanup"
   ]
  },
  {
   "cell_type": "code",
   "execution_count": 49,
   "id": "0d1bb044-907a-4446-92cb-fcb04f80ad6f",
   "metadata": {
    "tags": []
   },
   "outputs": [],
   "source": [
    "\n",
    "\n",
    "# Specify the path to the Excel file\n",
    "file_path = 'emissions/emissions_result.xlsx'  # Adjust this to the correct path\n",
    "\n",
    "# Read the Excel file\n",
    "data = pd.read_excel(file_path)\n",
    "\n",
    "# Extract the second row (which contains the CO data)\n",
    "co_data = data.iloc[[1]]\n",
    "\n",
    "# Specify the path to save the new Excel file containing only the CO data\n",
    "output_path = 'emissions/co_emissions.xlsx'  # Adjust this to your desired path\n",
    "\n",
    "# Save the CO data to the new Excel file\n",
    "co_data.to_excel(output_path, index=False)"
   ]
  },
  {
   "cell_type": "markdown",
   "id": "e7b8224d-d9a2-488e-b412-24f10b4e791f",
   "metadata": {},
   "source": [
    "one more...."
   ]
  },
  {
   "cell_type": "code",
   "execution_count": 50,
   "id": "dec88f4e-4d0f-417e-8fbc-6823fbec1540",
   "metadata": {
    "tags": []
   },
   "outputs": [
    {
     "name": "stdout",
     "output_type": "stream",
     "text": [
      "          1990         1991         1992         1993         1994  \\\n",
      "0  393630.9085  430816.0475  396309.5863  382110.1478  350767.5162   \n",
      "\n",
      "          1995         1996         1997         1998         1999  ...  \\\n",
      "0  363766.9714  381670.5571  343219.8317  326173.3633  322593.8883  ...   \n",
      "\n",
      "          2014         2015         2016         2017         2018  \\\n",
      "0  237697.3519  242982.9094  246182.9875  246088.5924  223550.7482   \n",
      "\n",
      "          2019         2020         2021         2022  2023  \n",
      "0  224370.5441  222961.9751  260701.7734  210604.1041   NaN  \n",
      "\n",
      "[1 rows x 34 columns]\n"
     ]
    }
   ],
   "source": [
    "import pandas as pd\n",
    "\n",
    "# Load the excel file\n",
    "excel_path = 'emissions/co_emissions.xlsx'\n",
    "data = pd.read_excel(excel_path)\n",
    "\n",
    "# Define the function to check if a column name represents a year up to 2023\n",
    "def is_year_col(col):\n",
    "    try:\n",
    "        year = int(col)\n",
    "        return year <= 2023\n",
    "    except ValueError:\n",
    "        # The column name is not a year\n",
    "        return False\n",
    "\n",
    "# Keep only the columns that are years up to and including 2023\n",
    "cols_to_keep = [col for col in data.columns if is_year_col(col)]\n",
    "cleaned_data = data[cols_to_keep]\n",
    "\n",
    "# Save the cleaned data to a new excel file\n",
    "cleaned_excel_path = 'emissions/cleaned_co_emissions.xlsx'\n",
    "cleaned_data.to_excel(cleaned_excel_path, index=False)\n",
    "\n",
    "print(cleaned_data)"
   ]
  },
  {
   "cell_type": "markdown",
   "id": "33d84b5e-108f-4a30-8e67-06f3d8a7c8da",
   "metadata": {},
   "source": [
    "now we can vizualize the data"
   ]
  },
  {
   "cell_type": "code",
   "execution_count": 56,
   "id": "9d01ab83-e562-4132-8525-35b41ca42aa7",
   "metadata": {
    "tags": []
   },
   "outputs": [
    {
     "data": {
      "image/png": "[encoded data removed]",
      "text/plain": [
       "<Figure size 1200x600 with 1 Axes>"
      ]
     },
     "metadata": {},
     "output_type": "display_data"
    }
   ],
   "source": [
    "import pandas as pd\n",
    "import matplotlib.pyplot as plt\n",
    "\n",
    "# Load the cleaned data\n",
    "cleaned_data_path = 'emissions/cleaned_co_emissions.xlsx'  # Replace with the correct path to the cleaned data\n",
    "cleaned_data = pd.read_excel(cleaned_data_path)\n",
    "\n",
    "# Filter the data for the years 2000 to 2022\n",
    "years = list(range(2000, 2023))  # The correct column names are integers\n",
    "austria_co2 = cleaned_data[years].transpose()\n",
    "\n",
    "# Rename the index and columns for clarity\n",
    "austria_co2.index.name = 'Year'\n",
    "austria_co2.columns = ['CO2 Emissions']\n",
    "\n",
    "# Plot the data\n",
    "plt.figure(figsize=(12, 6))\n",
    "plt.plot(austria_co2.index, austria_co2['CO2 Emissions'], marker='o')\n",
    "plt.title('CO2 transit emissions in Austria from 2000 to 2022')\n",
    "plt.xlabel('Year')\n",
    "plt.ylabel('CO2 Emissions (tons)')\n",
    "plt.grid(True)\n",
    "plt.tight_layout()\n",
    "\n",
    "# Save the plot as a PNG file\n",
    "graph_path = 'emissions/austria_co2_emissions_2000_2022.png'  # Replace with your desired file path\n",
    "plt.savefig(graph_path)\n",
    "\n",
    "plt.show()"
   ]
  },
  {
   "cell_type": "markdown",
   "id": "d3a3b907-b740-45c3-8d9c-4eb496c4ecbd",
   "metadata": {},
   "source": [
    "# New vehicles"
   ]
  },
  {
   "cell_type": "markdown",
   "id": "1a0150ed-e1f1-41fc-9263-9c1f5ec2af00",
   "metadata": {},
   "source": [
    "C-J59-0 --> Passenger car names\n",
    "\n",
    "C-A10-0 --> Time (monthly values)\n",
    "\n",
    "C-EK7-0 --> vehicle type\n",
    "\n",
    "F-ISIS-1 --> count\n"
   ]
  },
  {
   "cell_type": "markdown",
   "id": "a337991c-b077-454d-82df-255176868d9f",
   "metadata": {},
   "source": [
    "# Used vehicles"
   ]
  },
  {
   "cell_type": "markdown",
   "id": "cebda2d5-58de-41cf-aafd-ca570860930a",
   "metadata": {
    "tags": []
   },
   "source": [
    "C-J59-0 --> Passenger car names\n",
    "\n",
    "C-A10-0 --> Time (monthly values)\n",
    "\n",
    "C-EK7-0 --> vehicle type\n",
    "\n",
    "F-ISIS-1 --> count\n"
   ]
  },
  {
   "cell_type": "markdown",
   "id": "24119ec4-2c38-4449-96c6-b3b7950514dd",
   "metadata": {},
   "source": [
    "### TODO: merge data"
   ]
  },
  {
   "cell_type": "markdown",
   "id": "7b243019-24fb-4f6d-9158-390b51b63731",
   "metadata": {},
   "source": [
    "Count von new registered und used cars pro Jahr gegenüberstellen mit emissions"
   ]
  },
  {
   "cell_type": "code",
   "execution_count": null,
   "id": "02c51c5e-f669-4fde-9532-64f754bd580a",
   "metadata": {},
   "outputs": [],
   "source": []
  }
 ],
 "metadata": {
  "kernelspec": {
   "display_name": "Python 3 (ipykernel)",
   "language": "python",
   "name": "python3"
  },
  "language_info": {
   "codemirror_mode": {
    "name": "ipython",
    "version": 3
   },
   "file_extension": ".py",
   "mimetype": "text/x-python",
   "name": "python",
   "nbconvert_exporter": "python",
   "pygments_lexer": "ipython3",
   "version": "3.11.5"
  }
 },
 "nbformat": 4,
 "nbformat_minor": 5
}
